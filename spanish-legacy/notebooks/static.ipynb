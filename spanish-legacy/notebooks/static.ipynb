{
 "cells": [
  {
   "cell_type": "markdown",
   "metadata": {},
   "source": [
    "# Static Variables\n",
    "## Class or static variables are shared by all objects. Instance or non-static variables are different for different objects (every object has a copy of it).\n",
    "## All variables defined on the class level in Python are considered static."
   ]
  },
  {
   "cell_type": "code",
   "execution_count": 1,
   "metadata": {},
   "outputs": [],
   "source": [
    "class Student:\n",
    "    #course is a static variable\n",
    "    course = \"Calculus\"            \n",
    "    def __init__(self,name,age):\n",
    "        #name and age are instance variables\n",
    "        self.name = name            \n",
    "        self.age = age              \n",
    "  \n",
    "#Objects of Student class\n",
    "a = Student('David', 21) \n",
    "b = Student('Adrian', 22)     "
   ]
  },
  {
   "cell_type": "code",
   "execution_count": 2,
   "metadata": {},
   "outputs": [
    {
     "name": "stdout",
     "output_type": "stream",
     "text": [
      "Calculus\n",
      "Calculus\n",
      "David\n",
      "Adrian\n",
      "21\n",
      "22\n"
     ]
    }
   ],
   "source": [
    "print(a.course)  \n",
    "print(b.course)  \n",
    "print(a.name)    \n",
    "print(b.name)    \n",
    "print(a.age)    \n",
    "print(b.age)  "
   ]
  },
  {
   "cell_type": "code",
   "execution_count": 3,
   "metadata": {},
   "outputs": [
    {
     "name": "stdout",
     "output_type": "stream",
     "text": [
      "Calculus\n"
     ]
    }
   ],
   "source": [
    "#Class variables can be accessed using class name \n",
    "print(Student.course)"
   ]
  },
  {
   "cell_type": "code",
   "execution_count": 4,
   "metadata": {},
   "outputs": [
    {
     "name": "stdout",
     "output_type": "stream",
     "text": [
      "Physics\n",
      "Calculus\n"
     ]
    }
   ],
   "source": [
    "a.course = \"Physics\"\n",
    "print(a.course)\n",
    "print(Student.course)"
   ]
  },
  {
   "cell_type": "code",
   "execution_count": 5,
   "metadata": {},
   "outputs": [
    {
     "name": "stdout",
     "output_type": "stream",
     "text": [
      "Physics\n",
      "Topology\n"
     ]
    }
   ],
   "source": [
    "Student.course = \"Topology\"\n",
    "print(a.course)\n",
    "print(Student.course)"
   ]
  },
  {
   "cell_type": "markdown",
   "metadata": {},
   "source": [
    "# Methods\n",
    "\n",
    "## We have 3 kinds of methods: instance, class and static methods\n",
    "\n",
    "* Instance methods need a class instance and can access the instance through self.\n",
    "* Class methods don’t need a class instance. They can’t access the instance (self) but they have access to the class itself via cls.\n",
    "* Static methods don’t have access to cls or self. They work like regular functions but belong to the class’s namespace.\n",
    "\n",
    "\n"
   ]
  },
  {
   "cell_type": "code",
   "execution_count": 6,
   "metadata": {},
   "outputs": [],
   "source": [
    "class Pizza:\n",
    "    default_ingredients = [\"cheese\",\"ham\"]\n",
    "    def __init__(self,diameter,extra_ingredients=default_ingredients):\n",
    "        self.diameter = diameter\n",
    "        self.extra_ingredients = extra_ingredients\n",
    "    def confirm_order(self):\n",
    "        if self.default_ingredients == self.extra_ingredients:\n",
    "            ingredients = self.default_ingredients\n",
    "        else:\n",
    "            ingredients = self.default_ingredients + self.extra_ingredients\n",
    "        print(\"Your pizza has a diameter of %d and the ingredients are %r\" % (self.diameter,ingredients))\n",
    "        "
   ]
  },
  {
   "cell_type": "code",
   "execution_count": 7,
   "metadata": {},
   "outputs": [
    {
     "name": "stdout",
     "output_type": "stream",
     "text": [
      "Your pizza has a diameter of 5 and the ingredients are ['cheese', 'ham']\n",
      "Your pizza has a diameter of 10 and the ingredients are ['cheese', 'ham', 'pepperoni']\n"
     ]
    }
   ],
   "source": [
    "p1 = Pizza(5)\n",
    "p1.confirm_order()\n",
    "p2 = Pizza(10,[\"pepperoni\"])\n",
    "p2.confirm_order()"
   ]
  },
  {
   "cell_type": "code",
   "execution_count": 8,
   "metadata": {},
   "outputs": [
    {
     "name": "stdout",
     "output_type": "stream",
     "text": [
      "['cheese', 'ham']\n",
      "['cheese', 'ham']\n",
      "['cheese', 'ham']\n"
     ]
    }
   ],
   "source": [
    "print(Pizza.default_ingredients)\n",
    "print(p1.default_ingredients)\n",
    "print(p2.default_ingredients)"
   ]
  },
  {
   "cell_type": "code",
   "execution_count": 9,
   "metadata": {},
   "outputs": [],
   "source": [
    "class Pizza:\n",
    "    default_ingredients = [\"cheese\",\"ham\"]\n",
    "    def __init__(self,diameter,extra_ingredients=default_ingredients):\n",
    "        self.diameter = diameter\n",
    "        self.extra_ingredients = extra_ingredients\n",
    "    @classmethod\n",
    "    def change_default_ingredients(cls,new_default_ingredients):\n",
    "        cls.default_ingredients = new_default_ingredients"
   ]
  },
  {
   "cell_type": "code",
   "execution_count": 10,
   "metadata": {},
   "outputs": [
    {
     "name": "stdout",
     "output_type": "stream",
     "text": [
      "['cheese', 'ham']\n"
     ]
    }
   ],
   "source": [
    "print(Pizza.default_ingredients)"
   ]
  },
  {
   "cell_type": "code",
   "execution_count": 11,
   "metadata": {},
   "outputs": [],
   "source": [
    "Pizza.change_default_ingredients([\"tomatoes\",\"salami\"])"
   ]
  },
  {
   "cell_type": "code",
   "execution_count": 12,
   "metadata": {},
   "outputs": [
    {
     "name": "stdout",
     "output_type": "stream",
     "text": [
      "['tomatoes', 'salami']\n"
     ]
    }
   ],
   "source": [
    "print(Pizza.default_ingredients)"
   ]
  },
  {
   "cell_type": "code",
   "execution_count": 13,
   "metadata": {},
   "outputs": [
    {
     "name": "stdout",
     "output_type": "stream",
     "text": [
      "['tomatoes', 'salami']\n",
      "['pineapple']\n"
     ]
    }
   ],
   "source": [
    "p3 = Pizza(6,[\"pineapple\"])\n",
    "print(p3.default_ingredients)\n",
    "print(p3.extra_ingredients)"
   ]
  },
  {
   "cell_type": "code",
   "execution_count": 14,
   "metadata": {},
   "outputs": [],
   "source": [
    "p3.change_default_ingredients(p3.extra_ingredients)"
   ]
  },
  {
   "cell_type": "code",
   "execution_count": 15,
   "metadata": {},
   "outputs": [
    {
     "name": "stdout",
     "output_type": "stream",
     "text": [
      "['pineapple']\n"
     ]
    }
   ],
   "source": [
    "print(Pizza.default_ingredients)"
   ]
  },
  {
   "cell_type": "markdown",
   "metadata": {},
   "source": [
    "# Class methods can be dangerous!"
   ]
  },
  {
   "cell_type": "code",
   "execution_count": 16,
   "metadata": {},
   "outputs": [],
   "source": [
    "class Pizza:\n",
    "    default_ingredients = [\"cheese\",\"ham\"]\n",
    "    def __init__(self,diameter,extra_ingredients=default_ingredients):\n",
    "        self.diameter = diameter\n",
    "        self.extra_ingredients = extra_ingredients\n",
    "    @staticmethod\n",
    "    def price(diameter):\n",
    "        if diameter > 0 and diameter <= 5:\n",
    "            print(\"Your pizza costs $6.99\")\n",
    "        elif diameter > 5 and diameter <= 10:\n",
    "            print(\"Your pizza costs $10.99\")\n",
    "        elif diameter > 10:\n",
    "            print(\"Your pizza costs $15.99\")\n",
    "    def automatic_price(self):\n",
    "        if self.diameter > 0 and self.diameter <= 5:\n",
    "            print(\"Your pizza costs $6.99\")\n",
    "        elif self.diameter > 5 and self.diameter <= 10:\n",
    "            print(\"Your pizza costs $10.99\")\n",
    "        elif self.diameter > 10:\n",
    "            print(\"Your pizza costs $15.99\")"
   ]
  },
  {
   "cell_type": "code",
   "execution_count": 17,
   "metadata": {},
   "outputs": [
    {
     "name": "stdout",
     "output_type": "stream",
     "text": [
      "Your pizza costs $10.99\n"
     ]
    }
   ],
   "source": [
    "Pizza.price(7)"
   ]
  },
  {
   "cell_type": "code",
   "execution_count": 18,
   "metadata": {},
   "outputs": [
    {
     "name": "stdout",
     "output_type": "stream",
     "text": [
      "Your pizza costs $6.99\n",
      "Your pizza costs $6.99\n"
     ]
    }
   ],
   "source": [
    "p4 = Pizza(5,[\"mushrooms\"])\n",
    "p4.price(5)\n",
    "p4.automatic_price()"
   ]
  },
  {
   "cell_type": "code",
   "execution_count": 19,
   "metadata": {},
   "outputs": [],
   "source": [
    "def price_but_outside_the_class(diameter):\n",
    "    if diameter > 0 and diameter <= 5:\n",
    "        print(\"Your pizza costs $6.99\")\n",
    "    elif diameter > 5 and diameter <= 10:\n",
    "        print(\"Your pizza costs $10.99\")\n",
    "    elif diameter > 10:\n",
    "        print(\"Your pizza costs $15.99\")"
   ]
  },
  {
   "cell_type": "code",
   "execution_count": 20,
   "metadata": {},
   "outputs": [
    {
     "name": "stdout",
     "output_type": "stream",
     "text": [
      "Your pizza costs $6.99\n"
     ]
    }
   ],
   "source": [
    "price_but_outside_the_class(5)"
   ]
  },
  {
   "cell_type": "code",
   "execution_count": null,
   "metadata": {},
   "outputs": [],
   "source": []
  }
 ],
 "metadata": {
  "kernelspec": {
   "display_name": "Python 3",
   "language": "python",
   "name": "python3"
  },
  "language_info": {
   "codemirror_mode": {
    "name": "ipython",
    "version": 3
   },
   "file_extension": ".py",
   "mimetype": "text/x-python",
   "name": "python",
   "nbconvert_exporter": "python",
   "pygments_lexer": "ipython3",
   "version": "3.7.1"
  }
 },
 "nbformat": 4,
 "nbformat_minor": 2
}
