{
 "cells": [
  {
   "cell_type": "markdown",
   "metadata": {},
   "source": [
    "# Swapping variables with XOR\n",
    "\n",
    "XOR truth table:\n",
    "\n",
    "![xor](https://www.codespeedy.com/wp-content/uploads/2019/08/Screenshot-from-2019-08-04-12-01-49.png)"
   ]
  },
  {
   "cell_type": "code",
   "execution_count": 26,
   "metadata": {},
   "outputs": [
    {
     "name": "stdout",
     "output_type": "stream",
     "text": [
      "a = 17 b = 32\n",
      "a = 32 b = 17\n",
      "50\n"
     ]
    }
   ],
   "source": [
    "a, b = 17, 32\n",
    "print(f'a = {a}', f'b = {b}')\n",
    "a = a^b\n",
    "b = b^a\n",
    "a = a^b\n",
    "print(f'a = {a}', f'b = {b}')"
   ]
  },
  {
   "cell_type": "code",
   "execution_count": null,
   "metadata": {},
   "outputs": [],
   "source": [
    "# a = a^b\n",
    "# b = b^a = b^(a^b) = b^(b^a) = b^b^a = 0^a = a\n",
    "# a = a^b = (a^b)^a = (b^a)^a = b^a^a = b^0 = 0^b = b"
   ]
  }
 ],
 "metadata": {
  "kernelspec": {
   "display_name": "Python 3",
   "language": "python",
   "name": "python3"
  },
  "language_info": {
   "codemirror_mode": {
    "name": "ipython",
    "version": 3
   },
   "file_extension": ".py",
   "mimetype": "text/x-python",
   "name": "python",
   "nbconvert_exporter": "python",
   "pygments_lexer": "ipython3",
   "version": "3.8.5"
  }
 },
 "nbformat": 4,
 "nbformat_minor": 4
}
